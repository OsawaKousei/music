{
 "cells": [
  {
   "cell_type": "code",
   "execution_count": 1,
   "id": "431c0616",
   "metadata": {},
   "outputs": [
    {
     "name": "stderr",
     "output_type": "stream",
     "text": [
      "2025-06-18 22:03:28.266640: I tensorflow/core/util/port.cc:153] oneDNN custom operations are on. You may see slightly different numerical results due to floating-point round-off errors from different computation orders. To turn them off, set the environment variable `TF_ENABLE_ONEDNN_OPTS=0`.\n",
      "2025-06-18 22:03:28.273930: E external/local_xla/xla/stream_executor/cuda/cuda_fft.cc:467] Unable to register cuFFT factory: Attempting to register factory for plugin cuFFT when one has already been registered\n",
      "WARNING: All log messages before absl::InitializeLog() is called are written to STDERR\n",
      "E0000 00:00:1750251808.281588   70081 cuda_dnn.cc:8579] Unable to register cuDNN factory: Attempting to register factory for plugin cuDNN when one has already been registered\n",
      "E0000 00:00:1750251808.283977   70081 cuda_blas.cc:1407] Unable to register cuBLAS factory: Attempting to register factory for plugin cuBLAS when one has already been registered\n",
      "W0000 00:00:1750251808.290342   70081 computation_placer.cc:177] computation placer already registered. Please check linkage and avoid linking the same target more than once.\n",
      "W0000 00:00:1750251808.290349   70081 computation_placer.cc:177] computation placer already registered. Please check linkage and avoid linking the same target more than once.\n",
      "W0000 00:00:1750251808.290349   70081 computation_placer.cc:177] computation placer already registered. Please check linkage and avoid linking the same target more than once.\n",
      "W0000 00:00:1750251808.290350   70081 computation_placer.cc:177] computation placer already registered. Please check linkage and avoid linking the same target more than once.\n",
      "2025-06-18 22:03:28.292444: I tensorflow/core/platform/cpu_feature_guard.cc:210] This TensorFlow binary is optimized to use available CPU instructions in performance-critical operations.\n",
      "To enable the following instructions: AVX2 AVX_VNNI FMA, in other operations, rebuild TensorFlow with the appropriate compiler flags.\n"
     ]
    }
   ],
   "source": [
    "%load_ext autoreload\n",
    "%autoreload 2\n",
    "\n",
    "import os\n",
    "import glob\n",
    "import numpy as np\n",
    "import time\n",
    "import matplotlib.pyplot as plt\n",
    "\n",
    "import tensorflow as tf\n",
    "from tensorflow.keras import layers, models, losses, callbacks\n",
    "\n",
    "import music21\n",
    "\n",
    "from transformer_utils import (\n",
    "    parse_midi_files,\n",
    "    load_parsed_files,\n",
    "    get_midi_note,\n",
    "    SinePositionEncoding,\n",
    ")"
   ]
  },
  {
   "cell_type": "code",
   "execution_count": 3,
   "id": "09013aec",
   "metadata": {},
   "outputs": [],
   "source": [
    "PARSE_MIDI_FILES = True\n",
    "PARSED_DATA_PATH = \"parsed_data/\"\n",
    "DATASET_REPETITIONS = 1\n",
    "\n",
    "SEQ_LEN = 50\n",
    "EMBEDDING_DIM = 256\n",
    "KEY_DIM = 256\n",
    "N_HEADS = 5\n",
    "DROPOUT_RATE = 0.3\n",
    "FEED_FORWARD_DIM = 256\n",
    "LOAD_MODEL = False\n",
    "\n",
    "# optimization\n",
    "EPOCHS = 5000\n",
    "BATCH_SIZE = 256\n",
    "\n",
    "GENERATE_LEN = 50"
   ]
  },
  {
   "cell_type": "code",
   "execution_count": 4,
   "id": "47d12b70",
   "metadata": {},
   "outputs": [
    {
     "name": "stdout",
     "output_type": "stream",
     "text": [
      "Found 36 midi files\n"
     ]
    }
   ],
   "source": [
    "# Load the data\n",
    "file_list = glob.glob(\"data/*.mid\")\n",
    "print(f\"Found {len(file_list)} midi files\")"
   ]
  },
  {
   "cell_type": "code",
   "execution_count": 5,
   "id": "a44c18db",
   "metadata": {},
   "outputs": [],
   "source": [
    "parser = music21.converter"
   ]
  },
  {
   "cell_type": "code",
   "execution_count": 6,
   "id": "61294178",
   "metadata": {},
   "outputs": [],
   "source": [
    "example_score = (\n",
    "    music21.converter.parse(file_list[1]).splitAtQuarterLength(12)[0].chordify()\n",
    ")"
   ]
  },
  {
   "cell_type": "code",
   "execution_count": 9,
   "id": "7f2d3c5d",
   "metadata": {},
   "outputs": [
    {
     "data": {
      "image/png": "[encoded data removed]",
      "text/plain": [
       "<IPython.core.display.Image object>"
      ]
     },
     "metadata": {
      "image/png": {
       "height": 84,
       "width": 748
      }
     },
     "output_type": "display_data"
    }
   ],
   "source": [
    "example_score.show()"
   ]
  },
  {
   "cell_type": "code",
   "execution_count": 10,
   "id": "dd34b018",
   "metadata": {},
   "outputs": [
    {
     "name": "stdout",
     "output_type": "stream",
     "text": [
      "{0.0} <music21.metadata.Metadata object at 0x76f722e269e0>\n",
      "{0.0} <music21.stream.Measure 1 offset=0.0>\n",
      "    {0.0} <music21.instrument.Violoncello 'Solo Cello: Solo Cello'>\n",
      "    {0.0} <music21.instrument.Violoncello 'Violoncello'>\n",
      "    {0.0} <music21.clef.BassClef>\n",
      "    {0.0} <music21.tempo.MetronomeMark Quarter=250>\n",
      "    {0.0} <music21.key.Key of F major>\n",
      "    {0.0} <music21.meter.TimeSignature 4/4>\n",
      "    {0.0} <music21.note.Rest 3.75ql>\n",
      "    {3.75} <music21.tempo.MetronomeMark andantino Quarter=80>\n",
      "    {3.75} <music21.chord.Chord A3>\n",
      "{4.0} <music21.stream.Measure 2 offset=4.0>\n",
      "    {0.0} <music21.chord.Chord D2 A2 F3 A3>\n",
      "    {0.5} <music21.chord.Chord B-3>\n",
      "    {0.75} <music21.chord.Chord A3>\n",
      "    {1.0} <music21.chord.Chord G3>\n",
      "    {1.25} <music21.chord.Chord F3>\n",
      "    {1.5} <music21.chord.Chord E3>\n",
      "    {1.75} <music21.chord.Chord D3>\n",
      "    {2.0} <music21.chord.Chord D3>\n",
      "    {2.25} <music21.chord.Chord C#3>\n",
      "    {2.5} <music21.chord.Chord D3>\n",
      "    {2.75} <music21.chord.Chord E3>\n",
      "    {3.0} <music21.chord.Chord A2>\n",
      "    {3.5} <music21.chord.Chord B-2>\n",
      "    {3.75} <music21.chord.Chord G2>\n",
      "{8.0} <music21.stream.Measure 3 offset=8.0>\n",
      "    {0.0} <music21.chord.Chord F2>\n",
      "    {0.25} <music21.chord.Chord A2>\n",
      "    {0.5} <music21.chord.Chord D3>\n",
      "    {0.75} <music21.chord.Chord F2>\n",
      "    {1.0} <music21.chord.Chord E2>\n",
      "    {1.5} <music21.chord.Chord C#3>\n",
      "    {2.0} <music21.chord.Chord D2 A2 D3>\n",
      "    {2.75} <music21.chord.Chord E3>\n",
      "    {3.0} <music21.chord.Chord F3>\n",
      "    {3.25} <music21.chord.Chord G3>\n",
      "    {3.5} <music21.chord.Chord A3>\n",
      "    {3.75} <music21.chord.Chord B-3>\n"
     ]
    }
   ],
   "source": [
    "example_score.show(\"text\")"
   ]
  },
  {
   "cell_type": "code",
   "execution_count": 11,
   "id": "ae0b9160",
   "metadata": {},
   "outputs": [
    {
     "name": "stdout",
     "output_type": "stream",
     "text": [
      "1 Parsing data/cs6-6gig.mid\n"
     ]
    },
    {
     "name": "stderr",
     "output_type": "stream",
     "text": [
      "/tmp/ipykernel_70081/1308860806.py:2: Music21DeprecationWarning: .flat is deprecated.  Call .flatten() instead\n",
      "  notes, durations = parse_midi_files(\n"
     ]
    },
    {
     "name": "stdout",
     "output_type": "stream",
     "text": [
      "1172 notes parsed\n",
      "2 Parsing data/cs2-2all.mid\n",
      "1865 notes parsed\n",
      "3 Parsing data/cs5-2all.mid\n",
      "2557 notes parsed\n",
      "4 Parsing data/cs4-2all.mid\n",
      "3612 notes parsed\n",
      "5 Parsing data/cs4-6gig.mid\n",
      "4583 notes parsed\n",
      "6 Parsing data/cs5-4sar.mid\n",
      "4802 notes parsed\n",
      "7 Parsing data/cs1-3cou.mid\n",
      "5622 notes parsed\n",
      "8 Parsing data/cs4-5bou.mid\n",
      "6946 notes parsed\n",
      "9 Parsing data/cs3-2all.mid\n",
      "7683 notes parsed\n",
      "10 Parsing data/cs2-1pre.mid\n",
      "8321 notes parsed\n",
      "11 Parsing data/cs1-5men.mid\n",
      "8968 notes parsed\n",
      "12 Parsing data/cs1-2all.mid\n",
      "9889 notes parsed\n",
      "13 Parsing data/cs6-4sar.mid\n",
      "10224 notes parsed\n",
      "14 Parsing data/cs6-2all.mid\n",
      "10909 notes parsed\n",
      "15 Parsing data/cs2-5men.mid\n",
      "11436 notes parsed\n",
      "16 Parsing data/cs5-1pre.mid\n",
      "12745 notes parsed\n",
      "17 Parsing data/cs1-1pre.mid\n",
      "13403 notes parsed\n",
      "18 Parsing data/cs2-3cou.mid\n",
      "14144 notes parsed\n",
      "19 Parsing data/cs4-4sar.mid\n",
      "14464 notes parsed\n",
      "20 Parsing data/cs3-6gig.mid\n",
      "15425 notes parsed\n",
      "21 Parsing data/cs2-4sar.mid\n",
      "15762 notes parsed\n",
      "22 Parsing data/cs3-4sar.mid\n",
      "16103 notes parsed\n",
      "23 Parsing data/cs4-3cou.mid\n",
      "17025 notes parsed\n",
      "24 Parsing data/cs5-5gav.mid\n",
      "18227 notes parsed\n",
      "25 Parsing data/cs3-1pre.mid\n",
      "19208 notes parsed\n",
      "26 Parsing data/cs6-5gav.mid\n",
      "20014 notes parsed\n",
      "27 Parsing data/cs4-1pre.mid\n",
      "20831 notes parsed\n",
      "28 Parsing data/cs6-1pre.mid\n",
      "22173 notes parsed\n",
      "29 Parsing data/cs3-3cou.mid\n",
      "23162 notes parsed\n",
      "30 Parsing data/cs1-6gig.mid\n",
      "23588 notes parsed\n",
      "31 Parsing data/cs3-5bou.mid\n",
      "24469 notes parsed\n",
      "32 Parsing data/cs5-3cou.mid\n",
      "24899 notes parsed\n",
      "33 Parsing data/cs6-3cou.mid\n",
      "26185 notes parsed\n",
      "34 Parsing data/cs1-4sar.mid\n",
      "26448 notes parsed\n",
      "35 Parsing data/cs2-6gig.mid\n",
      "27183 notes parsed\n",
      "36 Parsing data/cs5-6gig.mid\n",
      "27632 notes parsed\n",
      "Building sequences of length 51\n"
     ]
    }
   ],
   "source": [
    "if PARSE_MIDI_FILES:\n",
    "    notes, durations = parse_midi_files(\n",
    "        file_list, parser, SEQ_LEN + 1, PARSED_DATA_PATH\n",
    "    )\n",
    "else:\n",
    "    notes, durations = load_parsed_files()\n"
   ]
  },
  {
   "cell_type": "code",
   "execution_count": 12,
   "id": "5b756f12",
   "metadata": {},
   "outputs": [
    {
     "name": "stdout",
     "output_type": "stream",
     "text": [
      "\n",
      "Notes string\n",
      " D3 C#3 D3 E3 F#3 F#3 E3 F#3 G3 A3 A3 B3 A3 G3 A3 F#3 A2 B2 C#3 D3 E3 F#3 G3 A3 B3 C4 D4 B3 A3 B3 E3 F#3 G3 E3 C#3 B2 C#3 D3 E3 A2 G2 F#2 G2 E2 F#2 A3 G3 F#3 E3 D3 E3 ...\n",
      "\n",
      "Duration string\n",
      " 0.25 0.25 0.25 0.25 0.5 0.25 0.25 0.25 0.25 0.5 0.5 0.25 0.25 0.25 0.25 0.25 0.25 0.25 0.25 0.25 0.25 0.25 0.25 0.25 0.25 0.25 0.25 0.5 0.5 0.5 0.25 0.25 0.5 0.5 0.25 0.25 0.25 0.25 0.5 0.5 0.25 0.25 0.25 0.25 0.5 0.25 0.25 0.25 0.25 0.25 0.25 ...\n"
     ]
    }
   ],
   "source": [
    "example_notes = notes[658]\n",
    "example_durations = durations[658]\n",
    "print(\"\\nNotes string\\n\", example_notes, \"...\")\n",
    "print(\"\\nDuration string\\n\", example_durations, \"...\")"
   ]
  }
 ],
 "metadata": {
  "kernelspec": {
   "display_name": "music",
   "language": "python",
   "name": "python3"
  },
  "language_info": {
   "codemirror_mode": {
    "name": "ipython",
    "version": 3
   },
   "file_extension": ".py",
   "mimetype": "text/x-python",
   "name": "python",
   "nbconvert_exporter": "python",
   "pygments_lexer": "ipython3",
   "version": "3.10.16"
  }
 },
 "nbformat": 4,
 "nbformat_minor": 5
}
